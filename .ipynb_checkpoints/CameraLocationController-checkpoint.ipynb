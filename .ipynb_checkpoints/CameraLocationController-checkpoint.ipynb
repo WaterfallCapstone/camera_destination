{
 "cells": [
  {
   "cell_type": "code",
   "execution_count": 4,
   "id": "402304fd",
   "metadata": {},
   "outputs": [],
   "source": [
    "import numpy as np"
   ]
  },
  {
   "cell_type": "code",
   "execution_count": 35,
   "id": "e44fd128",
   "metadata": {},
   "outputs": [],
   "source": [
    "default_cam_loc = np.array([0,0.05,0.9,0])\n",
    "# 디폴트 카메라 방향 - 양의 y축 방향으로 정의 \n",
    "default_cam_dir = np.array([1,np.pi/2,np.pi/2])\n",
    "\n",
    "# 카메라 기준 좌표계에서 카메라는 양의 x축을 바라보고 있는 것으로 정의\n",
    "# 얼굴이 카메라를 정면으로 바라보면 얼굴은 음의 x축을 바라보고 있다\n",
    "\n",
    "# default_arm_length = np.array([0.2,0.3,0.3,0.05,0.1])\n",
    "# default_destination_distance = 0.5"
   ]
  },
  {
   "cell_type": "code",
   "execution_count": 40,
   "id": "c5e6ec82",
   "metadata": {},
   "outputs": [],
   "source": [
    "# \n",
    "class CameraLocationController:\n",
    "    def __init__(self, \n",
    "                 is_face = False,\n",
    "                 cur_cam_loc = default_cam_loc,\n",
    "                 cur_cam_dir = default_cam_dir\n",
    "                ):\n",
    "        self.is_face = is_face\n",
    "        # 카메라 위치 - 카테시안 좌표계\n",
    "        self.cam_loc = cur_cam_loc\n",
    "        # 카메라 벡터 - 극 좌표계 (구형)\n",
    "        self.cam_dir = cur_cam_dir\n",
    "        # 카메라 기준 얼굴의 극좌표 (구형)\n",
    "        self.face_loc_cam_axis_polar = np.array([2,0,np.pi/2])\n",
    "        # 카메라 기준 얼굴 방향 - 카테시안 (얼굴분석 모듈에서 카테시안 단위벡터 return)\n",
    "        self.face_dir_cam_axis_cart = np.array([-1,0,0,0])\n",
    "        # 얼굴 최종 위치 - 카테시안 좌표\n",
    "        self.face_loc = np.array([0,0,0])\n",
    "        # 얼굴 방향 벡터 - 카테시안\n",
    "        self.face_dir = np.array([0,0,0])\n",
    "        \n",
    "        # 카메라 극좌표계 얼굴 위치를 카테시안 좌표계로 변환\n",
    "        self.face_to_cart = np.array([0,0,0,1])\n",
    "        # 카메라 카테시안 좌표계의 얼굴 좌표를 외부계로 회전 변환\n",
    "        self.face_rot = np.array([0,0,0,1])\n",
    "        # 회전변환된 좌표를 카메라 위치로 Translation\n",
    "        self.face_trans = np.array([0,0,0,1])\n",
    "        \n",
    "        self.face_dir_to_cart = np.array([0,0,0,1])\n",
    "        self.face_dir_rot = np.array([0,0,0,1])\n",
    "        self.face_dir_trans = np.array([0,0,0,1])\n",
    "        \n",
    "    def calculate_face_loc(self):\n",
    "        r = self.face_loc_cam_axis_polar[0]\n",
    "        phi = self.face_loc_cam_axis_polar[1]\n",
    "        theta = self.face_loc_cam_axis_polar[2]\n",
    "        self.face_to_cart[0] = r * np.sin(theta) * np.cos(phi)\n",
    "        self.face_to_cart[1] = r * np.sin(theta) * np.sin(phi)\n",
    "        self.face_to_cart[2] = r * np.cos(theta)\n",
    "        \n",
    "        self.face_dir_to_cart = self.face_to_cart + self.face_dir_cam_axis_cart\n",
    "        \n",
    "        print(self.face_to_cart, self.face_dir_to_cart)\n",
    "        \n",
    "        roll = self.cam_dir[1]\n",
    "        pitch = np.pi/2 - self.cam_dir[2]\n",
    "        roll_matrix = np.array(\n",
    "            [\n",
    "                [np.cos(roll), -np.sin(roll), 0, 0],\n",
    "                [np.sin(roll), np.cos(roll), 0, 0],\n",
    "                [0,0,1,0],\n",
    "                [0,0,0,1]\n",
    "            ]\n",
    "        )\n",
    "        pitch_matrix = np.array(\n",
    "            [\n",
    "                [1,0,0,0],\n",
    "                [0,np.cos(pitch),-np.sin(pitch),0],\n",
    "                [0,np.sin(pitch),np.cos(pitch),0],\n",
    "                [0,0,0,1]\n",
    "            ]\n",
    "        )\n",
    "        self.face_rot = roll_matrix @ (pitch_matrix @ self.face_to_cart)\n",
    "        self.face_dir_rot = roll_matrix @ (pitch_matrix @ self.face_dir_to_cart)\n",
    "        print(self.face_rot, self.face_dir_rot)\n",
    "        \n",
    "        self.face_trans = self.face_rot + self.cam_loc\n",
    "        self.face_dir_trans = self.face_dir_rot + self.cam_loc\n",
    "        print(self.face_trans, self.face_dir_trans)\n",
    "        \n",
    "        self.face_loc = self.face_trans[0:3]\n",
    "        self.face_dir = (self.face_dir_trans - self.face_trans)[0:3]\n",
    "        \n",
    "        print(self.face_loc, self.face_dir)\n",
    "        print(type(self.face_loc))\n",
    "        \n",
    "    def set_cam_loc(self, value):\n",
    "        if type(value) == np.ndarray:\n",
    "            self.cam_loc = value\n",
    "        else:\n",
    "            self.cam_loc = np.array(value)\n",
    "        return\n",
    "    def set_cam_dir(self, value):\n",
    "        if type(value) == np.ndarray:\n",
    "            self.cam_dir = value\n",
    "        else:\n",
    "            self.cam_dir = np.array(value)\n",
    "        return\n",
    "    def set_face_loc_cam_axis_polar(self, value):\n",
    "        if type(value) == np.ndarray:\n",
    "            self.face_loc_cam_axis_polar = value\n",
    "        else:\n",
    "            self.face_loc_cam_axis_polar = np.array(value)\n",
    "        return\n",
    "    def set_face_dir_cam_axis_cart(self, value):\n",
    "        if type(value) == np.ndarray:\n",
    "            self.face_dir_cam_axis_cart = value\n",
    "        else:\n",
    "            self.face_dir_cam_axis_cart = np.array(value)\n",
    "        return\n",
    "    \n",
    "    \n",
    "        "
   ]
  },
  {
   "cell_type": "code",
   "execution_count": 41,
   "id": "5d041f56",
   "metadata": {},
   "outputs": [
    {
     "name": "stdout",
     "output_type": "stream",
     "text": [
      "[2 0 0 1] [1 0 0 1]\n",
      "[1.2246468e-16 2.0000000e+00 0.0000000e+00 1.0000000e+00] [6.123234e-17 1.000000e+00 0.000000e+00 1.000000e+00]\n",
      "[1.2246468e-16 2.0500000e+00 9.0000000e-01 1.0000000e+00] [6.123234e-17 1.050000e+00 9.000000e-01 1.000000e+00]\n",
      "[1.2246468e-16 2.0500000e+00 9.0000000e-01] [-6.123234e-17 -1.000000e+00  0.000000e+00]\n",
      "<class 'numpy.ndarray'>\n"
     ]
    }
   ],
   "source": [
    "ld = CameraLocationController()\n",
    "ld.calculate_face_loc()"
   ]
  },
  {
   "cell_type": "code",
   "execution_count": 52,
   "id": "024e4e86",
   "metadata": {},
   "outputs": [
    {
     "name": "stdout",
     "output_type": "stream",
     "text": [
      "[0 0 0]\n",
      "[0 0 0]\n"
     ]
    }
   ],
   "source": [
    "# print(ld.face_loc)\n",
    "# print(type(ld.face_loc))\n",
    "# ld.set_face_loc([1,0,1])\n",
    "# print(ld.face_loc)\n",
    "# print(type(ld.face_loc))\n",
    "\n",
    "print(ld.face_dir)\n",
    "print(-ld.face_dir)"
   ]
  },
  {
   "cell_type": "code",
   "execution_count": null,
   "id": "a6da06ed",
   "metadata": {},
   "outputs": [],
   "source": []
  }
 ],
 "metadata": {
  "kernelspec": {
   "display_name": "Python 3 (ipykernel)",
   "language": "python",
   "name": "python3"
  },
  "language_info": {
   "codemirror_mode": {
    "name": "ipython",
    "version": 3
   },
   "file_extension": ".py",
   "mimetype": "text/x-python",
   "name": "python",
   "nbconvert_exporter": "python",
   "pygments_lexer": "ipython3",
   "version": "3.8.10"
  }
 },
 "nbformat": 4,
 "nbformat_minor": 5
}
