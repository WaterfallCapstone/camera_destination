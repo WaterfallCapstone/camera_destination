{
 "cells": [
  {
   "cell_type": "code",
   "execution_count": 2,
   "id": "64ea8624",
   "metadata": {},
   "outputs": [],
   "source": [
    "import numpy as np"
   ]
  },
  {
   "cell_type": "code",
   "execution_count": 4,
   "id": "954b1c33",
   "metadata": {},
   "outputs": [],
   "source": [
    "default_destination_distance = 0.5\n",
    "default_arm_length = np.array([0.2,0.3,0.25,0.05,0.1,0.1])"
   ]
  },
  {
   "cell_type": "code",
   "execution_count": 4,
   "id": "8db38270",
   "metadata": {},
   "outputs": [],
   "source": [
    "class CameraDestinationController:\n",
    "    def __init__(self, \n",
    "                 is_face = False,\n",
    "                 dest_dist = default_destination_distance,\n",
    "                 arm_length = default_arm_length\n",
    "                ):\n",
    "        self.is_face = is_face\n",
    "        self.face_loc = np.array([0,0,0])\n",
    "        self.face_dir = np.array([0,0,0])\n",
    "        \n",
    "        self.dest_dist = dest_dist\n",
    "        \n",
    "        self.dest_cam_loc = np.array([0,0,0])\n",
    "        self.dest_cam_dir = np.array([0,0,0])\n",
    "    \n",
    "    def set_face_loc(self, value):\n",
    "        if type(value) == np.ndarray:\n",
    "            self.face_loc = value\n",
    "        else:\n",
    "            self.face_loc = np.array(value)\n",
    "        return\n",
    "    def set_face_dir(self, value):\n",
    "        if type(value) == np.ndarray:\n",
    "            self.face_dir = value\n",
    "        else:\n",
    "            self.face_dir = np.array(value)\n",
    "        return\n",
    "    def set_dest_dist(self, value):\n",
    "        self.dest_dist = value\n",
    "        return\n",
    "    \n",
    "    def calculate_dest_cam(self):\n",
    "        print(self.face_loc, self.face_dir)\n",
    "        self.dest_cam_loc = self.face_loc + (self.face_dir * self.dest_dist)\n",
    "        self.dest_cam_dir = -self.face_dir\n",
    "        \n",
    "        print(self.dest_cam_loc, self.dest_cam_dir)\n",
    "        return\n",
    "    "
   ]
  },
  {
   "cell_type": "code",
   "execution_count": 5,
   "id": "dfcbdd93",
   "metadata": {},
   "outputs": [
    {
     "name": "stdout",
     "output_type": "stream",
     "text": [
      "[0.  2.  0.9] [ 0 -1  0]\n",
      "[0.  1.5 0.9] [0 1 0]\n"
     ]
    }
   ],
   "source": [
    "cdc = CameraDestinationController()\n",
    "cdc.set_face_loc([0,2,0.9])\n",
    "cdc.set_face_dir([0,-1,0])\n",
    "cdc.calculate_dest_cam()"
   ]
  },
  {
   "cell_type": "code",
   "execution_count": null,
   "id": "4a99ed46",
   "metadata": {},
   "outputs": [],
   "source": []
  }
 ],
 "metadata": {
  "kernelspec": {
   "display_name": "Python 3 (ipykernel)",
   "language": "python",
   "name": "python3"
  },
  "language_info": {
   "codemirror_mode": {
    "name": "ipython",
    "version": 3
   },
   "file_extension": ".py",
   "mimetype": "text/x-python",
   "name": "python",
   "nbconvert_exporter": "python",
   "pygments_lexer": "ipython3",
   "version": "3.8.10"
  }
 },
 "nbformat": 4,
 "nbformat_minor": 5
}
