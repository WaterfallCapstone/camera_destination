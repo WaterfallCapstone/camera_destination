{
 "cells": [
  {
   "cell_type": "code",
   "execution_count": 1,
   "id": "c8897503",
   "metadata": {},
   "outputs": [],
   "source": [
    "import numpy as np"
   ]
  },
  {
   "cell_type": "code",
   "execution_count": 6,
   "id": "018656ad",
   "metadata": {},
   "outputs": [],
   "source": [
    "default_arm_length = np.array([0.2,0.3,0.3,0.05,0.0])\n",
    "default_camera_offset = np.array([0.05,0,0])\n",
    "default_motor_offset = np.pi/3\n",
    "default_motor_value = np.array([np.pi/2, np.pi/2, np.pi/2 - motor_offset, np.pi, np.pi/2])"
   ]
  },
  {
   "cell_type": "code",
   "execution_count": 7,
   "id": "4d181c24",
   "metadata": {},
   "outputs": [],
   "source": [
    "class MotorLocationController:\n",
    "    def __init__(self,\n",
    "                 arm_length = default_arm_length,\n",
    "                 camera_offset = default_camera_offset,\n",
    "                 motor_offset = default_motor_offset,\n",
    "                 motor_value = default_motor_value\n",
    "                ):\n",
    "        self.arm_length = arm_length\n",
    "        self.motor_offset = motor_offset\n",
    "        self.camera_offset = camera_offest\n",
    "        self.motor_value = motor_value\n",
    "        self.cam_loc = np.array([0,0.05,0.9,0])\n",
    "        self.cam_lookat = np.array([0,1.05,0.9,0])\n",
    "    def set_motor_value(self, value):\n",
    "        if type(value) == np.ndarray:\n",
    "            self.motor_value = value\n",
    "        else:\n",
    "            self.motor_value = np.array(value)\n",
    "        return\n",
    "    def set_motor_value_by_diff(self, value):\n",
    "        if type(value) == np.ndarray:\n",
    "            self.motor_value = self.motor_value + value\n",
    "        else:\n",
    "            self.motor_value = self.motor_value + np.array(value)\n",
    "        return\n",
    "    def set_motor_value_idx_diff(Self,idx,value):\n",
    "        self.motor_value[idx] += value\n",
    "    "
   ]
  },
  {
   "cell_type": "code",
   "execution_count": null,
   "id": "0dac1c24",
   "metadata": {},
   "outputs": [],
   "source": []
  }
 ],
 "metadata": {
  "kernelspec": {
   "display_name": "Python 3 (ipykernel)",
   "language": "python",
   "name": "python3"
  },
  "language_info": {
   "codemirror_mode": {
    "name": "ipython",
    "version": 3
   },
   "file_extension": ".py",
   "mimetype": "text/x-python",
   "name": "python",
   "nbconvert_exporter": "python",
   "pygments_lexer": "ipython3",
   "version": "3.8.10"
  }
 },
 "nbformat": 4,
 "nbformat_minor": 5
}
